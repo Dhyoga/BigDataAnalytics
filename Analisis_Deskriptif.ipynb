{
  "cells": [
    {
      "cell_type": "markdown",
      "metadata": {
        "id": "view-in-github",
        "colab_type": "text"
      },
      "source": [
        "<a href=\"https://colab.research.google.com/github/Dhyoga/BigDataAnalytics/blob/main/Analisis_Deskriptif.ipynb\" target=\"_parent\"><img src=\"https://colab.research.google.com/assets/colab-badge.svg\" alt=\"Open In Colab\"/></a>"
      ]
    },
    {
      "cell_type": "code",
      "execution_count": 6,
      "metadata": {
        "id": "KED2J9Y-bgca"
      },
      "outputs": [],
      "source": [
        "import pandas as pd"
      ]
    },
    {
      "cell_type": "code",
      "execution_count": 8,
      "metadata": {
        "id": "o-6bd7nBbgce"
      },
      "outputs": [],
      "source": [
        "import numpy as np"
      ]
    },
    {
      "cell_type": "code",
      "execution_count": 9,
      "metadata": {
        "id": "Q3WJ3O18bgcg"
      },
      "outputs": [],
      "source": [
        "import matplotlib.pyplot as plt"
      ]
    },
    {
      "cell_type": "code",
      "execution_count": 11,
      "metadata": {
        "colab": {
          "base_uri": "https://localhost:8080/"
        },
        "id": "FQE_XQatbgci",
        "outputId": "8f427b57-8f5e-43f4-96be-495ea9ab2588"
      },
      "outputs": [
        {
          "output_type": "stream",
          "name": "stdout",
          "text": [
            "Database is connected!\n"
          ]
        }
      ],
      "source": [
        "import mysql.connector\n",
        "\n",
        "try:\n",
        "  dbYoga=mysql.connector.connect(\n",
        "  host='localhost',\n",
        "  database='db_sma2',\n",
        "  user='root',\n",
        "  password='',\n",
        "  \n",
        "  )\n",
        "  if dbYoga.is_connected():\n",
        "    print('Database is connected!')\n",
        "except mysql.connector.Error as error:\n",
        "  print('Error establishing database connection:', error)"
      ]
    },
    {
      "cell_type": "code",
      "execution_count": 12,
      "metadata": {
        "colab": {
          "base_uri": "https://localhost:8080/",
          "height": 261
        },
        "id": "nqm0IVkCbgcj",
        "outputId": "7b577094-3294-4ba6-8172-6e23a09c4846"
      },
      "outputs": [
        {
          "output_type": "stream",
          "name": "stderr",
          "text": [
            "/tmp/ipykernel_13202/2394130808.py:1: UserWarning: pandas only supports SQLAlchemy connectable (engine/connection) or database string URI or sqlite3 DBAPI2 connection. Other DBAPI2 objects are not tested. Please consider using SQLAlchemy.\n",
            "  database=pd.read_sql(\"SELECT * FROM `tbl_scraping` ORDER BY `tbl_scraping`.`follower_count` DESC\", dbYoga)\n"
          ]
        },
        {
          "output_type": "execute_result",
          "data": {
            "text/plain": [
              "       id       ig_username                                  url  \\\n",
              "0  304086   championsleague  https://instagram.com/p/CjoTIa_ommQ   \n",
              "1  284644   championsleague  https://instagram.com/p/CjDCogiomur   \n",
              "2  273855   championsleague  https://instagram.com/p/Ciu66xMo0NO   \n",
              "3  180166   raffinagita1717  https://instagram.com/p/CdgDp9Ivnq6   \n",
              "4  312566  manchesterunited  https://instagram.com/p/Cj8KsPwIfTz   \n",
              "\n",
              "   follower_count  like_count  comment_count  response_count  \\\n",
              "0        99234404     1155215           2341               0   \n",
              "1        98686530      209418            636               0   \n",
              "2        98395115      344946           1233               0   \n",
              "3        61563707      148187           1459               0   \n",
              "4        61251427      136616           3864               0   \n",
              "\n",
              "             taken_at  completed category             created  \\\n",
              "0 2022-10-13 05:01:32          1        H 2022-10-14 09:24:57   \n",
              "1 2022-09-28 17:46:07          1        H 2022-09-29 08:52:56   \n",
              "2 2022-09-20 22:17:16          1        H 2022-09-21 02:51:23   \n",
              "3 2022-05-13 21:03:32          1        H 2022-05-14 00:22:28   \n",
              "4 2022-10-20 22:12:07          1        L 2022-10-21 10:41:07   \n",
              "\n",
              "              updated  \n",
              "0 2022-10-14 09:24:57  \n",
              "1 2022-09-29 08:52:56  \n",
              "2 2022-09-21 02:51:23  \n",
              "3 2022-05-14 00:22:28  \n",
              "4 2022-10-21 10:41:07  "
            ],
            "text/html": [
              "<div>\n",
              "<style scoped>\n",
              "    .dataframe tbody tr th:only-of-type {\n",
              "        vertical-align: middle;\n",
              "    }\n",
              "\n",
              "    .dataframe tbody tr th {\n",
              "        vertical-align: top;\n",
              "    }\n",
              "\n",
              "    .dataframe thead th {\n",
              "        text-align: right;\n",
              "    }\n",
              "</style>\n",
              "<table border=\"1\" class=\"dataframe\">\n",
              "  <thead>\n",
              "    <tr style=\"text-align: right;\">\n",
              "      <th></th>\n",
              "      <th>id</th>\n",
              "      <th>ig_username</th>\n",
              "      <th>url</th>\n",
              "      <th>follower_count</th>\n",
              "      <th>like_count</th>\n",
              "      <th>comment_count</th>\n",
              "      <th>response_count</th>\n",
              "      <th>taken_at</th>\n",
              "      <th>completed</th>\n",
              "      <th>category</th>\n",
              "      <th>created</th>\n",
              "      <th>updated</th>\n",
              "    </tr>\n",
              "  </thead>\n",
              "  <tbody>\n",
              "    <tr>\n",
              "      <th>0</th>\n",
              "      <td>304086</td>\n",
              "      <td>championsleague</td>\n",
              "      <td>https://instagram.com/p/CjoTIa_ommQ</td>\n",
              "      <td>99234404</td>\n",
              "      <td>1155215</td>\n",
              "      <td>2341</td>\n",
              "      <td>0</td>\n",
              "      <td>2022-10-13 05:01:32</td>\n",
              "      <td>1</td>\n",
              "      <td>H</td>\n",
              "      <td>2022-10-14 09:24:57</td>\n",
              "      <td>2022-10-14 09:24:57</td>\n",
              "    </tr>\n",
              "    <tr>\n",
              "      <th>1</th>\n",
              "      <td>284644</td>\n",
              "      <td>championsleague</td>\n",
              "      <td>https://instagram.com/p/CjDCogiomur</td>\n",
              "      <td>98686530</td>\n",
              "      <td>209418</td>\n",
              "      <td>636</td>\n",
              "      <td>0</td>\n",
              "      <td>2022-09-28 17:46:07</td>\n",
              "      <td>1</td>\n",
              "      <td>H</td>\n",
              "      <td>2022-09-29 08:52:56</td>\n",
              "      <td>2022-09-29 08:52:56</td>\n",
              "    </tr>\n",
              "    <tr>\n",
              "      <th>2</th>\n",
              "      <td>273855</td>\n",
              "      <td>championsleague</td>\n",
              "      <td>https://instagram.com/p/Ciu66xMo0NO</td>\n",
              "      <td>98395115</td>\n",
              "      <td>344946</td>\n",
              "      <td>1233</td>\n",
              "      <td>0</td>\n",
              "      <td>2022-09-20 22:17:16</td>\n",
              "      <td>1</td>\n",
              "      <td>H</td>\n",
              "      <td>2022-09-21 02:51:23</td>\n",
              "      <td>2022-09-21 02:51:23</td>\n",
              "    </tr>\n",
              "    <tr>\n",
              "      <th>3</th>\n",
              "      <td>180166</td>\n",
              "      <td>raffinagita1717</td>\n",
              "      <td>https://instagram.com/p/CdgDp9Ivnq6</td>\n",
              "      <td>61563707</td>\n",
              "      <td>148187</td>\n",
              "      <td>1459</td>\n",
              "      <td>0</td>\n",
              "      <td>2022-05-13 21:03:32</td>\n",
              "      <td>1</td>\n",
              "      <td>H</td>\n",
              "      <td>2022-05-14 00:22:28</td>\n",
              "      <td>2022-05-14 00:22:28</td>\n",
              "    </tr>\n",
              "    <tr>\n",
              "      <th>4</th>\n",
              "      <td>312566</td>\n",
              "      <td>manchesterunited</td>\n",
              "      <td>https://instagram.com/p/Cj8KsPwIfTz</td>\n",
              "      <td>61251427</td>\n",
              "      <td>136616</td>\n",
              "      <td>3864</td>\n",
              "      <td>0</td>\n",
              "      <td>2022-10-20 22:12:07</td>\n",
              "      <td>1</td>\n",
              "      <td>L</td>\n",
              "      <td>2022-10-21 10:41:07</td>\n",
              "      <td>2022-10-21 10:41:07</td>\n",
              "    </tr>\n",
              "  </tbody>\n",
              "</table>\n",
              "</div>"
            ]
          },
          "metadata": {},
          "execution_count": 12
        }
      ],
      "source": [
        "database=pd.read_sql(\"SELECT * FROM `tbl_scraping` ORDER BY `tbl_scraping`.`follower_count` DESC\", dbYoga)\n",
        "database.head()"
      ]
    }
  ],
  "metadata": {
    "kernelspec": {
      "display_name": "Python 3.10.6 64-bit",
      "language": "python",
      "name": "python3"
    },
    "language_info": {
      "codemirror_mode": {
        "name": "ipython",
        "version": 3
      },
      "file_extension": ".py",
      "mimetype": "text/x-python",
      "name": "python",
      "nbconvert_exporter": "python",
      "pygments_lexer": "ipython3",
      "version": "3.10.6"
    },
    "orig_nbformat": 4,
    "vscode": {
      "interpreter": {
        "hash": "e7370f93d1d0cde622a1f8e1c04877d8463912d04d973331ad4851f04de6915a"
      }
    },
    "colab": {
      "provenance": [],
      "include_colab_link": true
    }
  },
  "nbformat": 4,
  "nbformat_minor": 0
}
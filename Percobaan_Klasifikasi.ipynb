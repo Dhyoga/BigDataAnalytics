{
  "nbformat": 4,
  "nbformat_minor": 0,
  "metadata": {
    "colab": {
      "provenance": [],
      "authorship_tag": "ABX9TyOEAVTA62wqRCMBLrfCJZUz",
      "include_colab_link": true
    },
    "kernelspec": {
      "name": "python3",
      "display_name": "Python 3"
    },
    "language_info": {
      "name": "python"
    }
  },
  "cells": [
    {
      "cell_type": "markdown",
      "metadata": {
        "id": "view-in-github",
        "colab_type": "text"
      },
      "source": [
        "<a href=\"https://colab.research.google.com/github/Dhyoga/BigDataAnalytics/blob/main/Percobaan_Klasifikasi.ipynb\" target=\"_parent\"><img src=\"https://colab.research.google.com/assets/colab-badge.svg\" alt=\"Open In Colab\"/></a>"
      ]
    },
    {
      "cell_type": "code",
      "execution_count": null,
      "metadata": {
        "colab": {
          "base_uri": "https://localhost:8080/"
        },
        "id": "TGUvzbyMJJLw",
        "outputId": "0ac2c6d2-1b85-485a-d749-3c4e4e6a7d62"
      },
      "outputs": [
        {
          "output_type": "stream",
          "name": "stdout",
          "text": [
            "['laki-laki']\n"
          ]
        }
      ],
      "source": [
        "from sklearn import tree\n",
        "\n",
        "Parameter = [\n",
        "\t\t[170, 53, 32, 2,  95],\n",
        "\t\t[165, 51, 31, 14, 92],\n",
        "\t\t[180, 56, 33, 1,  101],\n",
        "\t\t[176, 55, 33, 2,  99],\n",
        "\t\t[182, 56, 34, 3,  102],\n",
        "\t\t[160, 64, 29, 15, 90],\n",
        "\t\t[154, 62, 28, 14, 86],\n",
        "\t\t[170, 68, 31, 16, 95],\n",
        "\t\t[155, 62, 28, 14, 87],\n",
        "\t\t[161, 64, 29, 15, 90]\n",
        "\t    ]\n",
        "Gender = [ \t\n",
        "\t\t'laki-laki',\n",
        "\t\t'laki-laki',\n",
        "\t\t'laki-laki',\n",
        "\t\t'laki-laki',\n",
        "\t\t'laki-laki',\n",
        "\t\t'perempuan',\n",
        "\t\t'perempuan',\n",
        "\t\t'perempuan',\n",
        "\t\t'perempuan',\n",
        "\t\t'perempuan'\n",
        "\t]\n",
        "\n",
        "#Memanggil metode Decision Tree dari Library \n",
        "metode = tree.DecisionTreeClassifier()\n",
        "#Training data\n",
        "metode = metode.fit(Parameter, Gender)\n",
        "\n",
        "prediksi=metode.predict([[150,47,28,3,84]])\n",
        "print(prediksi)"
      ]
    }
  ]
}